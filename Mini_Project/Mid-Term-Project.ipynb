{
 "cells": [
  {
   "cell_type": "markdown",
   "metadata": {},
   "source": [
    "<h1>Does Coal Usage Decrease as GDP Increases?</h1>"
   ]
  },
  {
   "cell_type": "markdown",
   "metadata": {},
   "source": [
    "<h2><font color = \"Red\">Import Libraries</font> </h2>"
   ]
  },
  {
   "cell_type": "code",
   "execution_count": 2,
   "metadata": {
    "collapsed": true
   },
   "outputs": [],
   "source": [
    "import pandas as pd\n",
    "import numpy as np\n",
    "import random\n",
    "import matplotlib.pyplot as plt"
   ]
  },
  {
   "cell_type": "markdown",
   "metadata": {},
   "source": [
    "<h2> <font color = \"Red\">Read Data</font></h2>"
   ]
  },
  {
   "cell_type": "code",
   "execution_count": 3,
   "metadata": {
    "collapsed": true
   },
   "outputs": [],
   "source": [
    "raw_data = pd.read_csv('./world-development-indicators/Indicators.csv')"
   ]
  },
  {
   "cell_type": "markdown",
   "metadata": {},
   "source": [
    "<h2><font color = \"Red\">Create Calls </font> </h2>"
   ]
  },
  {
   "cell_type": "code",
   "execution_count": 4,
   "metadata": {
    "collapsed": true
   },
   "outputs": [],
   "source": [
    "coal_call = \"Electricity production from coal sources\"\n",
    "\n",
    "oil_call = \"Electricity production from oil sources\"\n",
    "\n",
    "hydro_call = \"Electricity production from hydroelectric sources\"\n",
    "\n",
    "natural_gas_call = \"Electricity production from natural gas sources\"\n",
    "\n",
    "nuclear_call = \"Electricity production from nuclear sources\"\n",
    "\n",
    "renewable_call = \"Electricity production from renewable sources, excluding hydroelectric \\(% of\"\n",
    "\n",
    "GDP_call = \"GDP per capita \\(constant 2005\"\n",
    "\n",
    "GDP_growth_call = \"GDP growth \\(annual\"\n",
    "\n",
    "coal_rent_call = \"Coal rents\"\n",
    "\n",
    "consumption_call = \"Energy use \\(kg of oil equivalent per capita\"\n",
    "\n",
    "energy_import_call = \"Energy imports, net \\(% of energy\"\n",
    "\n",
    "science_call = \"Scientific and technical journal artic\"\n",
    "\n",
    "emissions_call = \"CO2 emissions \\(metric tons\" "
   ]
  },
  {
   "cell_type": "markdown",
   "metadata": {},
   "source": [
    "<h2><font color = \"Red\">Create Functions</font> </h2>"
   ]
  },
  {
   "cell_type": "code",
   "execution_count": 5,
   "metadata": {
    "collapsed": true
   },
   "outputs": [],
   "source": [
    "def create_mask(energy, country):\n",
    "    data = raw_data[\"IndicatorName\"].str.contains(energy)\n",
    "    nation = raw_data[\"CountryCode\"].str.contains(country)\n",
    "    return raw_data[data & nation]"
   ]
  },
  {
   "cell_type": "code",
   "execution_count": 6,
   "metadata": {
    "collapsed": true
   },
   "outputs": [],
   "source": [
    "def remove_mask(data, country):\n",
    "    return data[data[\"CountryCode\"] != country]"
   ]
  },
  {
   "cell_type": "code",
   "execution_count": 7,
   "metadata": {
    "collapsed": true
   },
   "outputs": [],
   "source": [
    "def correlation(data1, data2):\n",
    "    return np.corrcoef(data1['Value'].values, data2['Value'].values)"
   ]
  },
  {
   "cell_type": "code",
   "execution_count": 8,
   "metadata": {
    "collapsed": true
   },
   "outputs": [],
   "source": [
    "def data_trunc_below_year(data, year):\n",
    "    return data[data['Year'] < year]"
   ]
  },
  {
   "cell_type": "code",
   "execution_count": 9,
   "metadata": {
    "collapsed": true
   },
   "outputs": [],
   "source": [
    "def data_trunc_above_year(data, year):\n",
    "    return data[data['Year'] > year]"
   ]
  },
  {
   "cell_type": "code",
   "execution_count": 150,
   "metadata": {
    "collapsed": true
   },
   "outputs": [],
   "source": [
    "def scatter(data1, data2, title, filename):\n",
    "    fig, axis = plt.subplots()\n",
    "    # Grid lines, Xticks, Xlabel, Ylabel\n",
    "\n",
    "    axis.yaxis.grid(True)\n",
    "    axis.set_title(title, fontsize=10)\n",
    "    axis.set_xlabel(data1['IndicatorName'].iloc[0],fontsize=10)\n",
    "    axis.set_ylabel(data2['IndicatorName'].iloc[0],fontsize=10)\n",
    "\n",
    "    X = data1['Value']\n",
    "    Y = data2['Value']\n",
    "\n",
    "    axis.scatter(X, Y)\n",
    "    plt.savefig(filename)"
   ]
  },
  {
   "cell_type": "markdown",
   "metadata": {},
   "source": [
    "<h2><font color=\"Red\">World GDP vs Coal</font></h2>"
   ]
  },
  {
   "cell_type": "code",
   "execution_count": 11,
   "metadata": {
    "collapsed": true
   },
   "outputs": [],
   "source": [
    "#World Masks\n",
    "World_GDP = create_mask(GDP_call, \"WLD\")\n",
    "World_coal = create_mask(coal_call, \"WLD\")\n",
    "World_oil = create_mask(oil_call, \"WLD\")\n",
    "World_hydro = create_mask(hydro_call, \"WLD\")\n",
    "World_nuclear = create_mask(nuclear_call, \"WLD\")\n",
    "World_natural_gas = create_mask(natural_gas_call, \"WLD\")\n",
    "World_renewable = create_mask(renewable_call, 'WLD')\n",
    "World_consumption = create_mask(consumption_call, \"WLD\")\n",
    "World_articles = create_mask(science_call, \"WLD\")\n",
    "World_CO2_emissions = create_mask(emissions_call, \"WLD\")"
   ]
  },
  {
   "cell_type": "markdown",
   "metadata": {},
   "source": [
    "<h2><font color = \"Blue\">Energy Usage Worldwide</font></h2>"
   ]
  },
  {
   "cell_type": "code",
   "execution_count": 185,
   "metadata": {
    "collapsed": true
   },
   "outputs": [],
   "source": [
    "#Graph of Worldwide energy usage\n",
    "# Line plot of energy usage worldwide\n",
    "plt.plot(World_coal['Year'].values, World_coal['Value'].values, 'r-', label=\"Coal\")\n",
    "plt.plot(World_nuclear['Year'].values, World_nuclear['Value'].values, 'y-', label=\"Nuclear\") \n",
    "plt.plot(World_oil['Year'].values, World_oil['Value'].values, 'k-', label=\"Oil\")\n",
    "plt.plot(World_hydro['Year'].values, World_hydro['Value'].values, 'b-', label=\"Hydroelectric\")\n",
    "plt.plot(World_natural_gas['Year'].values, World_natural_gas['Value'].values, 'c-', label=\"Natural Gas\")\n",
    "plt.plot(World_renewable['Year'].values, World_renewable['Value'].values, 'g-', label=\"Renewable\")\n",
    "\n",
    "# Label the axes\n",
    "plt.xlabel('Year')\n",
    "plt.ylabel(\"Percentage of energy use\")\n",
    "plt.legend(loc=\"upper left\")\n",
    "\n",
    "#label the figure\n",
    "plt.title('Energy Usage in the World')\n",
    "\n",
    "# to make more honest, start they y axis at 0\n",
    "plt.axis([1971, 2012,0,100])\n",
    "#plt.show()\n",
    "plt.savefig(\"energy_usage_worldwide.png\")"
   ]
  },
  {
   "cell_type": "markdown",
   "metadata": {},
   "source": [
    "<p>Coal is a larger portion of energy usage worldwide today than it was 30 years ago. This is a surprising result!</p>"
   ]
  },
  {
   "cell_type": "markdown",
   "metadata": {},
   "source": [
    "<h2><font color = \"Blue\">Energy Usage GDP and Energy Correlations</font></h2>\n"
   ]
  },
  {
   "cell_type": "code",
   "execution_count": 13,
   "metadata": {
    "collapsed": true
   },
   "outputs": [],
   "source": [
    "#Truncate GDP data, so it is same length as coal data\n",
    "World_GDP_trunc = data_trunc_above_year(World_GDP, 1970)\n",
    "World_GDP_trunc = data_trunc_below_year(World_GDP_trunc, 2013)"
   ]
  },
  {
   "cell_type": "code",
   "execution_count": 151,
   "metadata": {
    "collapsed": true
   },
   "outputs": [],
   "source": [
    "scatter(World_GDP_trunc, World_coal, \"World GDP per capita vs Coal Usage\", \"GDP_coal_worldwide.png\")"
   ]
  },
  {
   "cell_type": "code",
   "execution_count": 15,
   "metadata": {},
   "outputs": [
    {
     "data": {
      "text/plain": [
       "array([[ 1.        ,  0.94738912],\n",
       "       [ 0.94738912,  1.        ]])"
      ]
     },
     "execution_count": 15,
     "metadata": {},
     "output_type": "execute_result"
    }
   ],
   "source": [
    "correlation(World_coal, World_GDP_trunc)"
   ]
  },
  {
   "cell_type": "markdown",
   "metadata": {},
   "source": [
    "<p>Higher GDP is positively, not negatively, correlated coal usage!</p>"
   ]
  },
  {
   "cell_type": "code",
   "execution_count": 16,
   "metadata": {},
   "outputs": [
    {
     "data": {
      "image/png": "[encoded data removed]",
      "text/plain": [
       "<matplotlib.figure.Figure at 0x1299d5630>"
      ]
     },
     "metadata": {},
     "output_type": "display_data"
    }
   ],
   "source": [
    "scatter(World_GDP_trunc, World_oil, \"Worldwide gdp vs oil usage\", \"World_oil_gdp.png\")"
   ]
  },
  {
   "cell_type": "code",
   "execution_count": 17,
   "metadata": {},
   "outputs": [
    {
     "data": {
      "text/plain": [
       "array([[ 1.        , -0.90409974],\n",
       "       [-0.90409974,  1.        ]])"
      ]
     },
     "execution_count": 17,
     "metadata": {},
     "output_type": "execute_result"
    }
   ],
   "source": [
    "correlation(World_GDP_trunc, World_oil)"
   ]
  },
  {
   "cell_type": "markdown",
   "metadata": {},
   "source": [
    "<p>But GDP is negatively correlated with oil!</p>"
   ]
  },
  {
   "cell_type": "code",
   "execution_count": 18,
   "metadata": {},
   "outputs": [
    {
     "data": {
      "text/plain": [
       "array([[ 1.        , -0.86699713],\n",
       "       [-0.86699713,  1.        ]])"
      ]
     },
     "execution_count": 18,
     "metadata": {},
     "output_type": "execute_result"
    }
   ],
   "source": [
    "correlation(World_GDP_trunc, World_hydro)"
   ]
  },
  {
   "cell_type": "code",
   "execution_count": 19,
   "metadata": {},
   "outputs": [
    {
     "data": {
      "text/plain": [
       "array([[ 1.        ,  0.60998358],\n",
       "       [ 0.60998358,  1.        ]])"
      ]
     },
     "execution_count": 19,
     "metadata": {},
     "output_type": "execute_result"
    }
   ],
   "source": [
    "correlation(World_GDP_trunc, World_nuclear)"
   ]
  },
  {
   "cell_type": "code",
   "execution_count": 20,
   "metadata": {},
   "outputs": [
    {
     "data": {
      "text/plain": [
       "array([[ 1.        ,  0.90847105],\n",
       "       [ 0.90847105,  1.        ]])"
      ]
     },
     "execution_count": 20,
     "metadata": {},
     "output_type": "execute_result"
    }
   ],
   "source": [
    "correlation(World_GDP_trunc, World_renewable)"
   ]
  },
  {
   "cell_type": "code",
   "execution_count": 21,
   "metadata": {},
   "outputs": [
    {
     "data": {
      "text/plain": [
       "array([[ 1.       ,  0.9342586],\n",
       "       [ 0.9342586,  1.       ]])"
      ]
     },
     "execution_count": 21,
     "metadata": {},
     "output_type": "execute_result"
    }
   ],
   "source": [
    "correlation(World_GDP_trunc, World_natural_gas)"
   ]
  },
  {
   "cell_type": "markdown",
   "metadata": {},
   "source": [
    "<p>Of all the energy sources, coal is the most correlated with GDP. Renewables and natural gas are close. Nuclear is not far behind. Hydroelectric power and oil actually have negative correlations.</p>"
   ]
  },
  {
   "cell_type": "markdown",
   "metadata": {},
   "source": [
    "<h2><font color = \"Blue\">Energy Usage Energy vs Consumption Correlations</font></h2>\n"
   ]
  },
  {
   "cell_type": "code",
   "execution_count": 22,
   "metadata": {},
   "outputs": [
    {
     "data": {
      "image/png": "[encoded data removed]",
      "text/plain": [
       "<matplotlib.figure.Figure at 0x116cb8f28>"
      ]
     },
     "metadata": {},
     "output_type": "display_data"
    }
   ],
   "source": [
    "scatter(World_coal, World_consumption, \"Worldwide energy consumption vs coal usage\", \"World_consumption_coal.png\")"
   ]
  },
  {
   "cell_type": "code",
   "execution_count": 23,
   "metadata": {},
   "outputs": [
    {
     "data": {
      "text/plain": [
       "array([[ 1.        ,  0.91328393],\n",
       "       [ 0.91328393,  1.        ]])"
      ]
     },
     "execution_count": 23,
     "metadata": {},
     "output_type": "execute_result"
    }
   ],
   "source": [
    "correlation(World_coal, World_consumption)"
   ]
  },
  {
   "cell_type": "markdown",
   "metadata": {},
   "source": [
    "<p>Higher consumption of energy is also correlated with coal usage!</p>"
   ]
  },
  {
   "cell_type": "code",
   "execution_count": 24,
   "metadata": {},
   "outputs": [
    {
     "data": {
      "text/plain": [
       "array([[ 1.        , -0.81358969],\n",
       "       [-0.81358969,  1.        ]])"
      ]
     },
     "execution_count": 24,
     "metadata": {},
     "output_type": "execute_result"
    }
   ],
   "source": [
    "correlation(World_oil, World_consumption)"
   ]
  },
  {
   "cell_type": "code",
   "execution_count": 25,
   "metadata": {},
   "outputs": [
    {
     "data": {
      "text/plain": [
       "array([[ 1.        , -0.77134061],\n",
       "       [-0.77134061,  1.        ]])"
      ]
     },
     "execution_count": 25,
     "metadata": {},
     "output_type": "execute_result"
    }
   ],
   "source": [
    "correlation(World_hydro, World_consumption)"
   ]
  },
  {
   "cell_type": "code",
   "execution_count": 26,
   "metadata": {},
   "outputs": [
    {
     "data": {
      "text/plain": [
       "array([[ 1.        ,  0.55173352],\n",
       "       [ 0.55173352,  1.        ]])"
      ]
     },
     "execution_count": 26,
     "metadata": {},
     "output_type": "execute_result"
    }
   ],
   "source": [
    "correlation(World_nuclear, World_consumption)"
   ]
  },
  {
   "cell_type": "code",
   "execution_count": 27,
   "metadata": {},
   "outputs": [
    {
     "data": {
      "text/plain": [
       "array([[ 1.        ,  0.91530251],\n",
       "       [ 0.91530251,  1.        ]])"
      ]
     },
     "execution_count": 27,
     "metadata": {},
     "output_type": "execute_result"
    }
   ],
   "source": [
    "correlation(World_renewable, World_consumption)"
   ]
  },
  {
   "cell_type": "code",
   "execution_count": 28,
   "metadata": {},
   "outputs": [
    {
     "data": {
      "text/plain": [
       "array([[ 1.        ,  0.95337607],\n",
       "       [ 0.95337607,  1.        ]])"
      ]
     },
     "execution_count": 28,
     "metadata": {},
     "output_type": "execute_result"
    }
   ],
   "source": [
    "correlation(World_natural_gas, World_consumption)"
   ]
  },
  {
   "cell_type": "markdown",
   "metadata": {},
   "source": [
    "<p>For the most part, the same relationship holds when comparing energy usage vs consumption. However, when compared to consumption, both renewable fuels and natural gas actually have stronger correlations then coal.</p>"
   ]
  },
  {
   "cell_type": "markdown",
   "metadata": {},
   "source": [
    "<h2><font color=\"blue\">Coal substitutes and complements worldwide</font></h2>"
   ]
  },
  {
   "cell_type": "code",
   "execution_count": 29,
   "metadata": {},
   "outputs": [
    {
     "data": {
      "text/plain": [
       "array([[ 1.        ,  0.91951426],\n",
       "       [ 0.91951426,  1.        ]])"
      ]
     },
     "execution_count": 29,
     "metadata": {},
     "output_type": "execute_result"
    }
   ],
   "source": [
    "correlation(World_natural_gas, World_coal)"
   ]
  },
  {
   "cell_type": "code",
   "execution_count": 30,
   "metadata": {},
   "outputs": [
    {
     "data": {
      "text/plain": [
       "array([[ 1.        ,  0.82610138],\n",
       "       [ 0.82610138,  1.        ]])"
      ]
     },
     "execution_count": 30,
     "metadata": {},
     "output_type": "execute_result"
    }
   ],
   "source": [
    "correlation(World_renewable, World_coal)"
   ]
  },
  {
   "cell_type": "code",
   "execution_count": 31,
   "metadata": {},
   "outputs": [
    {
     "data": {
      "text/plain": [
       "array([[ 1.        ,  0.72813613],\n",
       "       [ 0.72813613,  1.        ]])"
      ]
     },
     "execution_count": 31,
     "metadata": {},
     "output_type": "execute_result"
    }
   ],
   "source": [
    "correlation(World_nuclear, World_coal)"
   ]
  },
  {
   "cell_type": "code",
   "execution_count": 32,
   "metadata": {},
   "outputs": [
    {
     "data": {
      "text/plain": [
       "array([[ 1.       , -0.7702959],\n",
       "       [-0.7702959,  1.       ]])"
      ]
     },
     "execution_count": 32,
     "metadata": {},
     "output_type": "execute_result"
    }
   ],
   "source": [
    "correlation(World_hydro, World_coal)"
   ]
  },
  {
   "cell_type": "code",
   "execution_count": 33,
   "metadata": {},
   "outputs": [
    {
     "data": {
      "text/plain": [
       "array([[ 1.        , -0.94305456],\n",
       "       [-0.94305456,  1.        ]])"
      ]
     },
     "execution_count": 33,
     "metadata": {},
     "output_type": "execute_result"
    }
   ],
   "source": [
    "correlation(World_oil, World_coal)"
   ]
  },
  {
   "cell_type": "markdown",
   "metadata": {},
   "source": [
    "<p>At the world level only hydroelectric power and oil are substitutes for coal. Everything else is a complement</p>"
   ]
  },
  {
   "cell_type": "markdown",
   "metadata": {},
   "source": [
    "<h2><font color = \"Blue\">Energy Usage vs Published Articles Correlations</font></h2>\n",
    "<p>Does scientific research make a difference in coal usage?<p>\n"
   ]
  },
  {
   "cell_type": "code",
   "execution_count": 34,
   "metadata": {
    "collapsed": true
   },
   "outputs": [],
   "source": [
    "World_coal_trunc = data_trunc_above_year(World_coal, 1984)"
   ]
  },
  {
   "cell_type": "code",
   "execution_count": 35,
   "metadata": {
    "collapsed": true
   },
   "outputs": [],
   "source": [
    "World_coal_trunc = data_trunc_below_year(World_coal_trunc, 2012)"
   ]
  },
  {
   "cell_type": "code",
   "execution_count": 36,
   "metadata": {
    "collapsed": true
   },
   "outputs": [],
   "source": [
    "World_articles_trunc = data_trunc_above_year(World_articles, 1984)"
   ]
  },
  {
   "cell_type": "code",
   "execution_count": 37,
   "metadata": {},
   "outputs": [
    {
     "data": {
      "text/plain": [
       "array([[ 1.        ,  0.94860611],\n",
       "       [ 0.94860611,  1.        ]])"
      ]
     },
     "execution_count": 37,
     "metadata": {},
     "output_type": "execute_result"
    }
   ],
   "source": [
    "correlation(World_articles_trunc, World_coal_trunc)"
   ]
  },
  {
   "cell_type": "markdown",
   "metadata": {},
   "source": [
    "<p>Again, a strong relationship between published articles and coal growth. Let us examine this more closely. <p>"
   ]
  },
  {
   "cell_type": "code",
   "execution_count": 38,
   "metadata": {
    "collapsed": true
   },
   "outputs": [],
   "source": [
    "all_articles = raw_data[raw_data['IndicatorName'].str.contains(science_call)]"
   ]
  },
  {
   "cell_type": "code",
   "execution_count": 39,
   "metadata": {
    "collapsed": true
   },
   "outputs": [],
   "source": [
    "#remove multiple countries\n",
    "all_articles = remove_mask(all_articles, \"WLD\")\n",
    "all_articles = remove_mask(all_articles, \"NAC\")\n",
    "all_articles = remove_mask(all_articles, \"ARB\")\n",
    "all_articles = remove_mask(all_articles, \"CEB\")\n",
    "all_articles = remove_mask(all_articles, \"CSS\")\n",
    "all_articles = remove_mask(all_articles, \"EAP\")\n",
    "all_articles = remove_mask(all_articles, \"EAS\")\n",
    "all_articles = remove_mask(all_articles, \"ECA\")\n",
    "all_articles = remove_mask(all_articles, \"ECS\")\n",
    "all_articles = remove_mask(all_articles, \"EUU\")\n",
    "all_articles = remove_mask(all_articles, \"FCS\")\n",
    "all_articles = remove_mask(all_articles, \"HIC\")\n",
    "all_articles = remove_mask(all_articles, \"HPC\")\n",
    "all_articles = remove_mask(all_articles, \"LAC\")\n",
    "all_articles = remove_mask(all_articles, \"LMC\")\n",
    "all_articles = remove_mask(all_articles, \"LMY\")\n",
    "all_articles = remove_mask(all_articles, \"MEA\")\n",
    "all_articles = remove_mask(all_articles, \"MNA\")\n",
    "all_articles = remove_mask(all_articles, \"NOC\")\n",
    "all_articles = remove_mask(all_articles, \"OEC\")\n",
    "all_articles = remove_mask(all_articles, \"OED\")\n",
    "all_articles = remove_mask(all_articles, \"PSS\")\n",
    "all_articles = remove_mask(all_articles, \"SSA\")\n",
    "all_articles = remove_mask(all_articles, \"SSD\")\n",
    "all_articles = remove_mask(all_articles, \"SSF\")\n",
    "all_articles = remove_mask(all_articles, \"SST\")\n",
    "all_articles = remove_mask(all_articles, \"UMC\")\n",
    "all_articles = remove_mask(all_articles, \"EMU\")\n",
    "all_articles = remove_mask(all_articles, \"MIC\")\n",
    "\n"
   ]
  },
  {
   "cell_type": "code",
   "execution_count": 40,
   "metadata": {
    "collapsed": true
   },
   "outputs": [],
   "source": [
    "df = all_articles.groupby(['Year', \"CountryName\"])['Value'].max()"
   ]
  },
  {
   "cell_type": "code",
   "execution_count": 41,
   "metadata": {},
   "outputs": [
    {
     "name": "stdout",
     "output_type": "stream",
     "text": [
      "{1985: 'United States', 1986: 'United States', 1987: 'United States', 1988: 'United States', 1989: 'United States', 1990: 'United States', 1991: 'United States', 1992: 'United States', 1993: 'United States', 1994: 'United States', 1995: 'United States', 1996: 'United States', 1997: 'United States', 1998: 'United States', 1999: 'United States', 2000: 'United States', 2001: 'United States', 2002: 'United States', 2003: 'United States', 2004: 'United States', 2005: 'United States', 2006: 'United States', 2007: 'United States', 2008: 'United States', 2009: 'United States', 2010: 'China', 2011: 'China'}\n"
     ]
    }
   ],
   "source": [
    "year = 1985\n",
    "most_articles = {}\n",
    "while year < 2012:\n",
    "    most_articles[year] = (df[year].argmax())\n",
    "    year += 1\n",
    "    \n",
    "print(most_articles)"
   ]
  },
  {
   "cell_type": "markdown",
   "metadata": {},
   "source": [
    "<p>Articles are dominated by the United States and China. We will compare these two giants later. <p>"
   ]
  },
  {
   "cell_type": "code",
   "execution_count": 42,
   "metadata": {
    "collapsed": true
   },
   "outputs": [],
   "source": [
    "USA_Articles = create_mask(science_call, \"USA\")"
   ]
  },
  {
   "cell_type": "code",
   "execution_count": 43,
   "metadata": {
    "collapsed": true
   },
   "outputs": [],
   "source": [
    "USA_Articles_trunc = data_trunc_above_year(USA_Articles, 1984)"
   ]
  },
  {
   "cell_type": "code",
   "execution_count": 44,
   "metadata": {
    "collapsed": true
   },
   "outputs": [],
   "source": [
    "China_Articles = create_mask(science_call, \"CHN\")"
   ]
  },
  {
   "cell_type": "code",
   "execution_count": 45,
   "metadata": {
    "collapsed": true
   },
   "outputs": [],
   "source": [
    "China_Articles_trunc = data_trunc_above_year(China_Articles, 1984)"
   ]
  },
  {
   "cell_type": "code",
   "execution_count": 46,
   "metadata": {
    "collapsed": true
   },
   "outputs": [],
   "source": [
    "USA_articles_trunc = USA_Articles_trunc.set_index(USA_Articles_trunc['Year'])"
   ]
  },
  {
   "cell_type": "code",
   "execution_count": 47,
   "metadata": {
    "collapsed": true
   },
   "outputs": [],
   "source": [
    "China_articles_trunc = China_Articles_trunc.set_index(China_Articles_trunc['Year'])"
   ]
  },
  {
   "cell_type": "code",
   "execution_count": 48,
   "metadata": {},
   "outputs": [
    {
     "data": {
      "text/plain": [
       "Year\n",
       "1985    0.386921\n",
       "1986    0.421926\n",
       "1987    0.419982\n",
       "1988    0.416409\n",
       "1989    0.412139\n",
       "1990    0.412736\n",
       "1991    0.410507\n",
       "1992    0.396921\n",
       "1993    0.376985\n",
       "1994    0.364431\n",
       "1995    0.356855\n",
       "1996    0.348584\n",
       "1997    0.341631\n",
       "1998    0.337506\n",
       "1999    0.332375\n",
       "2000    0.333526\n",
       "2001    0.334872\n",
       "2002    0.333316\n",
       "2003    0.338802\n",
       "2004    0.342601\n",
       "2005    0.346076\n",
       "2006    0.348365\n",
       "2007    0.350158\n",
       "2008    0.353686\n",
       "2009    0.356965\n",
       "2010         NaN\n",
       "2011         NaN\n",
       "Name: Value, dtype: float64"
      ]
     },
     "execution_count": 48,
     "metadata": {},
     "output_type": "execute_result"
    }
   ],
   "source": [
    "World_articles_trunc = World_articles_trunc.set_index(World_articles_trunc['Year'])\n",
    "(China_articles_trunc['Value'] + USA_articles_trunc[\"Value\"]) / World_articles_trunc['Value']"
   ]
  },
  {
   "cell_type": "code",
   "execution_count": 49,
   "metadata": {
    "collapsed": true
   },
   "outputs": [],
   "source": [
    "World_articles_trunc = data_trunc_below_year(World_articles_trunc, 2010)"
   ]
  },
  {
   "cell_type": "code",
   "execution_count": 50,
   "metadata": {},
   "outputs": [
    {
     "data": {
      "text/plain": [
       "array([[ 1.        ,  0.81198823],\n",
       "       [ 0.81198823,  1.        ]])"
      ]
     },
     "execution_count": 50,
     "metadata": {},
     "output_type": "execute_result"
    }
   ],
   "source": [
    "correlation(World_articles_trunc, USA_articles_trunc)"
   ]
  },
  {
   "cell_type": "markdown",
   "metadata": {},
   "source": [
    "<h2><font color = \"blue\">What is the relationship between CO2 emissions and coal usage?</font></h2>"
   ]
  },
  {
   "cell_type": "code",
   "execution_count": 51,
   "metadata": {
    "collapsed": true
   },
   "outputs": [],
   "source": [
    "World_CO2_emissions_trunc = data_trunc_above_year(World_CO2_emissions, 1970)"
   ]
  },
  {
   "cell_type": "code",
   "execution_count": 52,
   "metadata": {
    "collapsed": true
   },
   "outputs": [],
   "source": [
    "World_coal_emissions_trunc = data_trunc_below_year(World_coal, 2012)"
   ]
  },
  {
   "cell_type": "code",
   "execution_count": 53,
   "metadata": {},
   "outputs": [
    {
     "data": {
      "image/png": "[encoded data removed]",
      "text/plain": [
       "<matplotlib.figure.Figure at 0x10e7ff5c0>"
      ]
     },
     "metadata": {},
     "output_type": "display_data"
    }
   ],
   "source": [
    "scatter(World_CO2_emissions_trunc, World_coal_emissions_trunc, \"CO2 emissions vs coal usage worldwide\", \"CO2_emissions_coal_world.png\")"
   ]
  },
  {
   "cell_type": "code",
   "execution_count": 54,
   "metadata": {},
   "outputs": [
    {
     "data": {
      "text/plain": [
       "array([[ 1.       ,  0.3813054],\n",
       "       [ 0.3813054,  1.       ]])"
      ]
     },
     "execution_count": 54,
     "metadata": {},
     "output_type": "execute_result"
    }
   ],
   "source": [
    "correlation(World_CO2_emissions_trunc, World_coal_emissions_trunc)"
   ]
  },
  {
   "cell_type": "markdown",
   "metadata": {},
   "source": [
    "<p>The relationship between CO2 emissions and coal usage as a percentage of total energy is not very strong worldwide<p>"
   ]
  },
  {
   "cell_type": "markdown",
   "metadata": {},
   "source": [
    "<h2><font color = \"Red\">Segmenting High and Low Income</font></h2>"
   ]
  },
  {
   "cell_type": "code",
   "execution_count": 55,
   "metadata": {
    "collapsed": true
   },
   "outputs": [],
   "source": [
    "#create high income masks\n",
    "High_income_GDP = create_mask(GDP_call, \"HIC\")\n",
    "High_income_coal = create_mask(coal_call, \"HIC\")\n",
    "High_income_oil = create_mask(oil_call, \"HIC\")\n",
    "High_income_hydro = create_mask(hydro_call, \"HIC\")\n",
    "High_income_nuclear = create_mask(nuclear_call, \"HIC\")\n",
    "High_income_natural_gas = create_mask(natural_gas_call, \"HIC\")\n",
    "High_income_renewable = create_mask(renewable_call, 'HIC')\n",
    "High_income_consumption = create_mask(consumption_call, \"HIC\")\n",
    "High_income_CO2_emissions = create_mask(emissions_call, \"HIC\")\n",
    "High_income_articles = create_mask(science_call, \"HIC\")"
   ]
  },
  {
   "cell_type": "code",
   "execution_count": 56,
   "metadata": {
    "collapsed": true
   },
   "outputs": [],
   "source": [
    "#create low and middle income masks\n",
    "Low_income_GDP = create_mask(GDP_call, \"LMY\")\n",
    "Low_income_coal = create_mask(coal_call, \"LMY\")\n",
    "Low_income_oil = create_mask(oil_call, \"LMY\")\n",
    "Low_income_hydro = create_mask(hydro_call, \"LMY\")\n",
    "Low_income_nuclear = create_mask(nuclear_call, \"LMY\")\n",
    "Low_income_natural_gas = create_mask(natural_gas_call, \"LMY\")\n",
    "Low_income_renewable = create_mask(renewable_call, \"LMY\")\n",
    "Low_income_consumption = create_mask(consumption_call, \"LMY\")\n",
    "Low_income_CO2_emissions = create_mask(emissions_call, \"LMY\")\n",
    "Low_income_articles = create_mask(science_call, \"LMY\")"
   ]
  },
  {
   "cell_type": "markdown",
   "metadata": {},
   "source": [
    "<h2><font color = \"blue\">Energy Usage in High Income Countries</font></h2>"
   ]
  },
  {
   "cell_type": "code",
   "execution_count": 188,
   "metadata": {
    "collapsed": true
   },
   "outputs": [],
   "source": [
    "#Graph of High income energy usage\n",
    "# Line plot of energy usage in high income countries\n",
    "plt.plot(High_income_coal['Year'].values, High_income_coal['Value'].values, 'r-', label=\"Coal\")\n",
    "plt.plot(High_income_nuclear['Year'].values, High_income_nuclear['Value'].values, 'y-', label=\"Nuclear\") \n",
    "plt.plot(High_income_oil['Year'].values, High_income_oil['Value'].values, 'k-', label=\"Oil\")\n",
    "plt.plot(High_income_hydro['Year'].values, High_income_hydro['Value'].values, 'b-', label=\"Hydroelectric\")\n",
    "plt.plot(High_income_natural_gas['Year'].values, High_income_natural_gas['Value'].values, 'c-', label=\"Natural Gas\")\n",
    "plt.plot(High_income_renewable['Year'].values, High_income_renewable['Value'].values, 'g-', label=\"Renewable\")\n",
    "\n",
    "# Label the axes\n",
    "plt.xlabel('Year')\n",
    "plt.ylabel(\"Market share by energy source\")\n",
    "plt.legend(loc=\"upper left\")\n",
    "\n",
    "#label the figure\n",
    "plt.title('Energy Usage in the High Income Countries')\n",
    "\n",
    "# to make more honest, start they y axis at 0\n",
    "plt.axis([1971, 2012,0,100])\n",
    "#plt.show()\n",
    "plt.savefig(\"HIC_energy_marketshare.png\")"
   ]
  },
  {
   "cell_type": "markdown",
   "metadata": {},
   "source": [
    "<p> High income countries are actually using less coal and more natural gas! This is very different from the world at large</p>"
   ]
  },
  {
   "cell_type": "markdown",
   "metadata": {},
   "source": [
    "<h2><font color=\"blue\">Energy Usage in Low Income Countries</font></h2>"
   ]
  },
  {
   "cell_type": "code",
   "execution_count": 158,
   "metadata": {
    "collapsed": true
   },
   "outputs": [],
   "source": [
    "# Line plot of energy usage in Lower and middle income countries\n",
    "plt.plot(Low_income_coal['Year'].values, Low_income_coal['Value'].values, 'r-', label=\"Coal\")\n",
    "plt.plot(Low_income_nuclear['Year'].values, Low_income_nuclear['Value'].values, 'y-', label=\"Nuclear\") \n",
    "plt.plot(Low_income_oil['Year'].values, Low_income_oil['Value'].values, 'k-', label=\"Oil\")\n",
    "plt.plot(Low_income_hydro['Year'].values, Low_income_hydro['Value'].values, 'b-', label=\"Hydroelectric\")\n",
    "plt.plot(Low_income_natural_gas['Year'].values, Low_income_natural_gas['Value'].values, 'c-', label=\"Natural Gas\")\n",
    "plt.plot(Low_income_renewable['Year'].values, Low_income_renewable['Value'].values, 'g-', label=\"Renewable\")\n",
    "\n",
    "# Label the axes\n",
    "plt.xlabel('Year')\n",
    "plt.ylabel(\"Market share by energy source\")\n",
    "plt.legend(loc=\"upper left\")\n",
    "\n",
    "#label the figure\n",
    "plt.title('Energy Usage in Low and Middle Income Countries')\n",
    "\n",
    "# to make more honest, start they y axis at 0\n",
    "plt.axis([1971, 2012,0,100])\n",
    "plt.savefig(\"LIC_marketshare.png\")"
   ]
  },
  {
   "cell_type": "markdown",
   "metadata": {},
   "source": [
    "<p>In high income countries, natural gas and coal appear move in opposite directions. In economic terms, they are substitutes. However, in lower income countries this is not the case. In fact, they appear to be complements. Furthermore, both oil and hydroelectric power is decreasing in lower income countries where as it is stagnant in high income countries.<p>"
   ]
  },
  {
   "cell_type": "markdown",
   "metadata": {},
   "source": [
    "<h2><font color=\"blue\">Comparing coal substitutes and complements in Low and High income countries</font></h2>"
   ]
  },
  {
   "cell_type": "markdown",
   "metadata": {},
   "source": [
    "<h3>High income</h3>"
   ]
  },
  {
   "cell_type": "code",
   "execution_count": 59,
   "metadata": {},
   "outputs": [
    {
     "data": {
      "text/plain": [
       "array([[ 1.        ,  0.64314516],\n",
       "       [ 0.64314516,  1.        ]])"
      ]
     },
     "execution_count": 59,
     "metadata": {},
     "output_type": "execute_result"
    }
   ],
   "source": [
    "correlation(High_income_coal, High_income_hydro)"
   ]
  },
  {
   "cell_type": "code",
   "execution_count": 60,
   "metadata": {},
   "outputs": [
    {
     "data": {
      "text/plain": [
       "array([[ 1.        , -0.30442593],\n",
       "       [-0.30442593,  1.        ]])"
      ]
     },
     "execution_count": 60,
     "metadata": {},
     "output_type": "execute_result"
    }
   ],
   "source": [
    "correlation(High_income_coal, High_income_nuclear)"
   ]
  },
  {
   "cell_type": "code",
   "execution_count": 61,
   "metadata": {},
   "outputs": [
    {
     "data": {
      "text/plain": [
       "array([[ 1.        , -0.31125517],\n",
       "       [-0.31125517,  1.        ]])"
      ]
     },
     "execution_count": 61,
     "metadata": {},
     "output_type": "execute_result"
    }
   ],
   "source": [
    "correlation(High_income_coal, High_income_oil)"
   ]
  },
  {
   "cell_type": "code",
   "execution_count": 62,
   "metadata": {},
   "outputs": [
    {
     "data": {
      "text/plain": [
       "array([[ 1.        , -0.49734896],\n",
       "       [-0.49734896,  1.        ]])"
      ]
     },
     "execution_count": 62,
     "metadata": {},
     "output_type": "execute_result"
    }
   ],
   "source": [
    "correlation(High_income_coal, High_income_renewable)"
   ]
  },
  {
   "cell_type": "code",
   "execution_count": 63,
   "metadata": {},
   "outputs": [
    {
     "data": {
      "text/plain": [
       "array([[ 1.        , -0.42325553],\n",
       "       [-0.42325553,  1.        ]])"
      ]
     },
     "execution_count": 63,
     "metadata": {},
     "output_type": "execute_result"
    }
   ],
   "source": [
    "correlation(High_income_coal, High_income_natural_gas)"
   ]
  },
  {
   "cell_type": "code",
   "execution_count": 64,
   "metadata": {},
   "outputs": [
    {
     "data": {
      "image/png": "[encoded data removed]",
      "text/plain": [
       "<matplotlib.figure.Figure at 0x116d890f0>"
      ]
     },
     "metadata": {},
     "output_type": "display_data"
    }
   ],
   "source": [
    "scatter(High_income_coal, High_income_natural_gas, \"High income natural gas vs coal usage\", \"HIC_coal_natural_gas.png\")"
   ]
  },
  {
   "cell_type": "code",
   "execution_count": 65,
   "metadata": {},
   "outputs": [
    {
     "data": {
      "text/plain": [
       "array([[ 1.        ,  0.91951426],\n",
       "       [ 0.91951426,  1.        ]])"
      ]
     },
     "execution_count": 65,
     "metadata": {},
     "output_type": "execute_result"
    }
   ],
   "source": [
    "correlation(World_coal, World_natural_gas)"
   ]
  },
  {
   "cell_type": "code",
   "execution_count": 66,
   "metadata": {},
   "outputs": [
    {
     "data": {
      "image/png": "[encoded data removed]",
      "text/plain": [
       "<matplotlib.figure.Figure at 0x119330550>"
      ]
     },
     "metadata": {},
     "output_type": "display_data"
    }
   ],
   "source": [
    "scatter(World_coal, World_natural_gas, \"World coal vs natural gas usage\", \"World_coal_natural_gas.png\")"
   ]
  },
  {
   "cell_type": "markdown",
   "metadata": {},
   "source": [
    "<h3>Low income</h3>"
   ]
  },
  {
   "cell_type": "code",
   "execution_count": 67,
   "metadata": {},
   "outputs": [
    {
     "data": {
      "text/plain": [
       "array([[ 1.        , -0.80163372],\n",
       "       [-0.80163372,  1.        ]])"
      ]
     },
     "execution_count": 67,
     "metadata": {},
     "output_type": "execute_result"
    }
   ],
   "source": [
    "correlation(Low_income_coal, Low_income_hydro)"
   ]
  },
  {
   "cell_type": "code",
   "execution_count": 68,
   "metadata": {},
   "outputs": [
    {
     "data": {
      "text/plain": [
       "array([[ 1.        ,  0.84995332],\n",
       "       [ 0.84995332,  1.        ]])"
      ]
     },
     "execution_count": 68,
     "metadata": {},
     "output_type": "execute_result"
    }
   ],
   "source": [
    "correlation(Low_income_coal, Low_income_nuclear)"
   ]
  },
  {
   "cell_type": "code",
   "execution_count": 69,
   "metadata": {},
   "outputs": [
    {
     "data": {
      "text/plain": [
       "array([[ 1.        , -0.91759013],\n",
       "       [-0.91759013,  1.        ]])"
      ]
     },
     "execution_count": 69,
     "metadata": {},
     "output_type": "execute_result"
    }
   ],
   "source": [
    "correlation(Low_income_coal, Low_income_oil)"
   ]
  },
  {
   "cell_type": "code",
   "execution_count": 70,
   "metadata": {},
   "outputs": [
    {
     "data": {
      "text/plain": [
       "array([[ 1.        ,  0.79556728],\n",
       "       [ 0.79556728,  1.        ]])"
      ]
     },
     "execution_count": 70,
     "metadata": {},
     "output_type": "execute_result"
    }
   ],
   "source": [
    "correlation(Low_income_coal, Low_income_renewable)"
   ]
  },
  {
   "cell_type": "code",
   "execution_count": 71,
   "metadata": {},
   "outputs": [
    {
     "data": {
      "text/plain": [
       "array([[ 1.        ,  0.96150082],\n",
       "       [ 0.96150082,  1.        ]])"
      ]
     },
     "execution_count": 71,
     "metadata": {},
     "output_type": "execute_result"
    }
   ],
   "source": [
    "correlation(Low_income_coal, Low_income_natural_gas)"
   ]
  },
  {
   "cell_type": "code",
   "execution_count": 72,
   "metadata": {},
   "outputs": [
    {
     "data": {
      "image/png": "[encoded data removed]",
      "text/plain": [
       "<matplotlib.figure.Figure at 0x1199e5550>"
      ]
     },
     "metadata": {},
     "output_type": "display_data"
    }
   ],
   "source": [
    "scatter(Low_income_coal, Low_income_natural_gas, \"Low income coal vs natural gas usage\", \"LIC_coal_natural_gas.png\")"
   ]
  },
  {
   "cell_type": "markdown",
   "metadata": {},
   "source": [
    "<p>In low income countries most of the growth in percentage of coal used comes from a decline in oil and hydroelectric power.</p>"
   ]
  },
  {
   "cell_type": "code",
   "execution_count": 73,
   "metadata": {
    "collapsed": true
   },
   "outputs": [],
   "source": [
    "High_income_GDP_trunc = data_trunc_below_year(High_income_GDP, 2013)"
   ]
  },
  {
   "cell_type": "code",
   "execution_count": 159,
   "metadata": {
    "collapsed": true
   },
   "outputs": [],
   "source": [
    "scatter(High_income_GDP_trunc, High_income_coal, \"High income GDP vs coal usage\", \"HIC_coal_gdp.png\")"
   ]
  },
  {
   "cell_type": "code",
   "execution_count": 75,
   "metadata": {},
   "outputs": [
    {
     "data": {
      "text/plain": [
       "array([[ 1.       , -0.4979867],\n",
       "       [-0.4979867,  1.       ]])"
      ]
     },
     "execution_count": 75,
     "metadata": {},
     "output_type": "execute_result"
    }
   ],
   "source": [
    "correlation(High_income_GDP_trunc, High_income_coal)"
   ]
  },
  {
   "cell_type": "code",
   "execution_count": 76,
   "metadata": {
    "collapsed": true
   },
   "outputs": [],
   "source": [
    "Low_income_GDP_trunc = data_trunc_above_year(Low_income_GDP, 1970)"
   ]
  },
  {
   "cell_type": "code",
   "execution_count": 77,
   "metadata": {
    "collapsed": true
   },
   "outputs": [],
   "source": [
    "Low_income_GDP_trunc = data_trunc_below_year(Low_income_GDP_trunc, 2013)"
   ]
  },
  {
   "cell_type": "code",
   "execution_count": 160,
   "metadata": {
    "collapsed": true
   },
   "outputs": [],
   "source": [
    "scatter(Low_income_GDP_trunc, Low_income_coal, \"Low income GDP vs coal usage\", \"LIC_coal_GDP.png\")"
   ]
  },
  {
   "cell_type": "code",
   "execution_count": 79,
   "metadata": {},
   "outputs": [
    {
     "data": {
      "text/plain": [
       "array([[ 1.       ,  0.8935453],\n",
       "       [ 0.8935453,  1.       ]])"
      ]
     },
     "execution_count": 79,
     "metadata": {},
     "output_type": "execute_result"
    }
   ],
   "source": [
    "correlation(Low_income_GDP_trunc, Low_income_coal)"
   ]
  },
  {
   "cell_type": "markdown",
   "metadata": {},
   "source": [
    "<p>This is a similar finding. Low income nations have a strong positive correlation between GDP and coal. High income nations have a slightly negative correlation.</p>"
   ]
  },
  {
   "cell_type": "markdown",
   "metadata": {
    "collapsed": true
   },
   "source": [
    "<h2> <font color = \"blue\"> Energy consumption vs coal in High and Low income countries</font></h2>"
   ]
  },
  {
   "cell_type": "code",
   "execution_count": 80,
   "metadata": {
    "collapsed": true
   },
   "outputs": [],
   "source": [
    "High_income_consumption_trunc = data_trunc_below_year(High_income_consumption, 2013)"
   ]
  },
  {
   "cell_type": "code",
   "execution_count": 81,
   "metadata": {},
   "outputs": [
    {
     "data": {
      "image/png": "[encoded data removed]",
      "text/plain": [
       "<matplotlib.figure.Figure at 0x119cb27b8>"
      ]
     },
     "metadata": {},
     "output_type": "display_data"
    }
   ],
   "source": [
    "scatter(High_income_coal, High_income_consumption_trunc, \"High income coal usage vs energy consumption\", \"HIC_consumption_coal.png\")"
   ]
  },
  {
   "cell_type": "code",
   "execution_count": 82,
   "metadata": {},
   "outputs": [
    {
     "data": {
      "text/plain": [
       "array([[ 1.        , -0.63044004],\n",
       "       [-0.63044004,  1.        ]])"
      ]
     },
     "execution_count": 82,
     "metadata": {},
     "output_type": "execute_result"
    }
   ],
   "source": [
    "correlation(High_income_consumption_trunc, High_income_coal)"
   ]
  },
  {
   "cell_type": "markdown",
   "metadata": {},
   "source": [
    "<p>In high income countries greater energy consumption is negatively correlated with percent coal usage</p>"
   ]
  },
  {
   "cell_type": "code",
   "execution_count": 83,
   "metadata": {},
   "outputs": [
    {
     "data": {
      "image/png": "[encoded data removed]",
      "text/plain": [
       "<matplotlib.figure.Figure at 0x1199e5cc0>"
      ]
     },
     "metadata": {},
     "output_type": "display_data"
    }
   ],
   "source": [
    "scatter(Low_income_coal, Low_income_consumption, \"Low income coal usage vs energy consumption\", \"LIC_consumption_coal.png\")"
   ]
  },
  {
   "cell_type": "code",
   "execution_count": 84,
   "metadata": {},
   "outputs": [
    {
     "data": {
      "text/plain": [
       "array([[ 1.        ,  0.93374557],\n",
       "       [ 0.93374557,  1.        ]])"
      ]
     },
     "execution_count": 84,
     "metadata": {},
     "output_type": "execute_result"
    }
   ],
   "source": [
    "correlation(Low_income_coal, Low_income_consumption)"
   ]
  },
  {
   "cell_type": "markdown",
   "metadata": {},
   "source": [
    "<p>In low income countries the opposite is true. As energy consumption increases coal usage increases.</p>"
   ]
  },
  {
   "cell_type": "markdown",
   "metadata": {},
   "source": [
    "<h2> <font color = \"blue\"> CO2 emissions vs coal in High and Low income countries</font></h2>"
   ]
  },
  {
   "cell_type": "code",
   "execution_count": 85,
   "metadata": {},
   "outputs": [
    {
     "data": {
      "text/plain": [
       "52"
      ]
     },
     "execution_count": 85,
     "metadata": {},
     "output_type": "execute_result"
    }
   ],
   "source": [
    "len(High_income_CO2_emissions)"
   ]
  },
  {
   "cell_type": "code",
   "execution_count": 86,
   "metadata": {},
   "outputs": [
    {
     "data": {
      "text/plain": [
       "53"
      ]
     },
     "execution_count": 86,
     "metadata": {},
     "output_type": "execute_result"
    }
   ],
   "source": [
    "len(High_income_coal)"
   ]
  },
  {
   "cell_type": "code",
   "execution_count": 87,
   "metadata": {
    "collapsed": true
   },
   "outputs": [],
   "source": [
    "High_income_coal_emissions_trunc = data_trunc_below_year(High_income_coal, 2012)"
   ]
  },
  {
   "cell_type": "code",
   "execution_count": 88,
   "metadata": {},
   "outputs": [
    {
     "data": {
      "image/png": "[encoded data removed]",
      "text/plain": [
       "<matplotlib.figure.Figure at 0x116d5f208>"
      ]
     },
     "metadata": {},
     "output_type": "display_data"
    }
   ],
   "source": [
    "scatter(High_income_CO2_emissions, High_income_coal_emissions_trunc, \"CO2 emissions vs coal usage in High Income Countries\", \"HIC_emissions_coal\")"
   ]
  },
  {
   "cell_type": "code",
   "execution_count": 89,
   "metadata": {},
   "outputs": [
    {
     "data": {
      "text/plain": [
       "array([[ 1.        , -0.78916844],\n",
       "       [-0.78916844,  1.        ]])"
      ]
     },
     "execution_count": 89,
     "metadata": {},
     "output_type": "execute_result"
    }
   ],
   "source": [
    "correlation(High_income_CO2_emissions, High_income_coal_emissions_trunc)"
   ]
  },
  {
   "cell_type": "markdown",
   "metadata": {},
   "source": [
    "<p>As expected there is a negative relationship between CO2 emissions and coal usage in High Income nations<p>"
   ]
  },
  {
   "cell_type": "code",
   "execution_count": 90,
   "metadata": {},
   "outputs": [
    {
     "data": {
      "text/plain": [
       "52"
      ]
     },
     "execution_count": 90,
     "metadata": {},
     "output_type": "execute_result"
    }
   ],
   "source": [
    "len(Low_income_CO2_emissions)"
   ]
  },
  {
   "cell_type": "code",
   "execution_count": 91,
   "metadata": {},
   "outputs": [
    {
     "data": {
      "text/plain": [
       "42"
      ]
     },
     "execution_count": 91,
     "metadata": {},
     "output_type": "execute_result"
    }
   ],
   "source": [
    "len(Low_income_coal)"
   ]
  },
  {
   "cell_type": "code",
   "execution_count": 92,
   "metadata": {
    "collapsed": true
   },
   "outputs": [],
   "source": [
    "Low_income_CO2_emissions_trunc = data_trunc_above_year(Low_income_CO2_emissions, 1970)"
   ]
  },
  {
   "cell_type": "code",
   "execution_count": 93,
   "metadata": {
    "collapsed": true
   },
   "outputs": [],
   "source": [
    "Low_income_coal_emissions_trunc = data_trunc_below_year(Low_income_coal, 2012)"
   ]
  },
  {
   "cell_type": "code",
   "execution_count": 94,
   "metadata": {},
   "outputs": [
    {
     "data": {
      "image/png": "[encoded data removed]",
      "text/plain": [
       "<matplotlib.figure.Figure at 0x11474f208>"
      ]
     },
     "metadata": {},
     "output_type": "display_data"
    }
   ],
   "source": [
    "scatter(Low_income_CO2_emissions_trunc, Low_income_coal_emissions_trunc, \"CO2 emissions vs coal usage in Low Income Countries\",\n",
    "       \"LIC_emissions_coal.png\")"
   ]
  },
  {
   "cell_type": "code",
   "execution_count": 95,
   "metadata": {},
   "outputs": [
    {
     "data": {
      "text/plain": [
       "array([[ 1.        ,  0.89112215],\n",
       "       [ 0.89112215,  1.        ]])"
      ]
     },
     "execution_count": 95,
     "metadata": {},
     "output_type": "execute_result"
    }
   ],
   "source": [
    "correlation(Low_income_CO2_emissions_trunc, Low_income_coal_emissions_trunc)"
   ]
  },
  {
   "cell_type": "markdown",
   "metadata": {},
   "source": [
    "<p>Once again the relationships are inverted</p>"
   ]
  },
  {
   "cell_type": "markdown",
   "metadata": {},
   "source": [
    "<h2><font color = \"red\">Case Studies Comparing Poland and South Africa</font></h2>"
   ]
  },
  {
   "cell_type": "markdown",
   "metadata": {},
   "source": [
    "<p>For most of the 1960s through 1990s Poland and South Africa had the highest percentage of their energy usage from coal. Since the end of apartheid in the Mid 90s South Africa's GDP has tripled. It has the 41st largest GDP in the world. Poland's economy is even larger, 24th overall. The countries are interesting because as they have become richer their coal production has declined. They are also interesting because they are at different development stages. Poland is a high income country. Whereas, South Africa is a Upper middle income country. In comparing the two, we hope to understand how coal usage changes as income levels rise.</p> "
   ]
  },
  {
   "cell_type": "markdown",
   "metadata": {},
   "source": [
    "<h2> <font color=\"red\">Calls</font></h2>"
   ]
  },
  {
   "cell_type": "markdown",
   "metadata": {},
   "source": [
    "<h3> Poland</h3>"
   ]
  },
  {
   "cell_type": "code",
   "execution_count": 111,
   "metadata": {
    "collapsed": true
   },
   "outputs": [],
   "source": [
    "Poland_GDP = create_mask(GDP_call, \"POL\")\n",
    "Poland_coal = create_mask(coal_call, \"POL\")\n",
    "Poland_oil = create_mask(oil_call, \"POL\")\n",
    "Poland_hydro = create_mask(hydro_call, \"POL\")\n",
    "Poland_nuclear = create_mask(nuclear_call, \"POL\")\n",
    "Poland_natural_gas = create_mask(natural_gas_call, \"POL\")\n",
    "Poland_renewable = create_mask(renewable_call, 'POL')\n",
    "Poland_consumption = create_mask(consumption_call, \"POL\")\n",
    "Poland_CO2_emissions = create_mask(emissions_call, \"POL\")\n",
    "Poland_articles = create_mask(science_call, \"POL\")"
   ]
  },
  {
   "cell_type": "markdown",
   "metadata": {},
   "source": [
    "<h3>South Africa</h3>"
   ]
  },
  {
   "cell_type": "code",
   "execution_count": 112,
   "metadata": {
    "collapsed": true
   },
   "outputs": [],
   "source": [
    "South_Africa_GDP = create_mask(GDP_call, \"ZAF\")\n",
    "South_Africa_coal = create_mask(coal_call, \"ZAF\")\n",
    "South_Africa_oil = create_mask(oil_call, \"ZAF\")\n",
    "South_Africa_hydro = create_mask(hydro_call, \"ZAF\")\n",
    "South_Africa_nuclear = create_mask(nuclear_call, \"ZAF\")\n",
    "South_Africa_natural_gas = create_mask(natural_gas_call, \"ZAF\")\n",
    "South_Africa_renewable = create_mask(renewable_call, \"ZAF\")\n",
    "South_Africa_consumption = create_mask(consumption_call, \"ZAF\")\n",
    "South_Africa_CO2_emissions = create_mask(emissions_call, \"ZAF\")\n",
    "South_Africa_articles = create_mask(science_call, \"ZAF\")"
   ]
  },
  {
   "cell_type": "markdown",
   "metadata": {},
   "source": [
    "<h2><font color = \"blue\">Polish energy usage</font></h2>"
   ]
  },
  {
   "cell_type": "code",
   "execution_count": 161,
   "metadata": {
    "collapsed": true
   },
   "outputs": [],
   "source": [
    "#Graph of High income energy usage\n",
    "# Line plot of energy usage in high income countries\n",
    "plt.plot(Poland_coal['Year'].values, Poland_coal['Value'].values, 'r-', label=\"Coal\")\n",
    "plt.plot(Poland_nuclear['Year'].values, Poland_nuclear['Value'].values, 'y-', label=\"Nuclear\") \n",
    "plt.plot(Poland_oil['Year'].values, Poland_oil['Value'].values, 'k-', label=\"Oil\")\n",
    "plt.plot(Poland_hydro['Year'].values, Poland_hydro['Value'].values, 'b-', label=\"Hydroelectric\")\n",
    "plt.plot(Poland_natural_gas['Year'].values, Poland_natural_gas['Value'].values, 'c-', label=\"Natural Gas\")\n",
    "plt.plot(Poland_renewable['Year'].values, Poland_renewable['Value'].values, 'g-', label=\"Renewable\")\n",
    "\n",
    "# Label the axes\n",
    "plt.xlabel('Year')\n",
    "plt.legend(loc=\"upper left\")\n",
    "\n",
    "#label the figure\n",
    "plt.title('Energy Usage in Poland')\n",
    "\n",
    "# to make more honest, start they y axis at 0\n",
    "plt.axis([1990, 2012,0,100])\n",
    "\n",
    "plt.savefig(\"poland_coal.png\")"
   ]
  },
  {
   "cell_type": "markdown",
   "metadata": {},
   "source": [
    "<h2><font color = \"blue\">Polish GDP vs coal usage</font></h2>\n"
   ]
  },
  {
   "cell_type": "code",
   "execution_count": 114,
   "metadata": {
    "collapsed": true
   },
   "outputs": [],
   "source": [
    "poland_coal_trunc = data_trunc_above_year(Poland_coal, 1989)"
   ]
  },
  {
   "cell_type": "code",
   "execution_count": 115,
   "metadata": {
    "collapsed": true
   },
   "outputs": [],
   "source": [
    "poland_gdp_trunc = data_trunc_below_year(Poland_GDP, 2014)"
   ]
  },
  {
   "cell_type": "code",
   "execution_count": 163,
   "metadata": {
    "collapsed": true
   },
   "outputs": [],
   "source": [
    "scatter(poland_coal_trunc, poland_gdp_trunc, \"Polish GDP vs coal usage since 1990\", \"Poland_coal_gdp.png\")"
   ]
  },
  {
   "cell_type": "code",
   "execution_count": 117,
   "metadata": {},
   "outputs": [
    {
     "data": {
      "text/plain": [
       "array([[ 1.        , -0.95426319],\n",
       "       [-0.95426319,  1.        ]])"
      ]
     },
     "execution_count": 117,
     "metadata": {},
     "output_type": "execute_result"
    }
   ],
   "source": [
    "correlation(poland_gdp_trunc, poland_coal_trunc)"
   ]
  },
  {
   "cell_type": "code",
   "execution_count": 118,
   "metadata": {},
   "outputs": [
    {
     "data": {
      "text/plain": [
       "array([[ 1.        , -0.85537997],\n",
       "       [-0.85537997,  1.        ]])"
      ]
     },
     "execution_count": 118,
     "metadata": {},
     "output_type": "execute_result"
    }
   ],
   "source": [
    "correlation(Poland_coal, Poland_natural_gas)"
   ]
  },
  {
   "cell_type": "code",
   "execution_count": 119,
   "metadata": {},
   "outputs": [
    {
     "data": {
      "text/plain": [
       "array([[ 1.        , -0.89234219],\n",
       "       [-0.89234219,  1.        ]])"
      ]
     },
     "execution_count": 119,
     "metadata": {},
     "output_type": "execute_result"
    }
   ],
   "source": [
    "correlation(Poland_coal, Poland_renewable)"
   ]
  },
  {
   "cell_type": "markdown",
   "metadata": {},
   "source": [
    "<p>As Poland's GDP has increased it has produced a smaller share of coal. However, it still produces a lot of coal (greater than 80 percent of its energy comes from coal). Like other high income countries, natural gas and renewable energies have negative correlations with coal, but the effect is not as apparent in Poland as it is elsewhere</p>"
   ]
  },
  {
   "cell_type": "markdown",
   "metadata": {},
   "source": [
    "<h2><font color = \"blue\">South African energy usage</font></h2>\n"
   ]
  },
  {
   "cell_type": "code",
   "execution_count": 120,
   "metadata": {},
   "outputs": [
    {
     "data": {
      "image/png": "[encoded data removed]",
      "text/plain": [
       "<matplotlib.figure.Figure at 0x119280978>"
      ]
     },
     "metadata": {},
     "output_type": "display_data"
    }
   ],
   "source": [
    "#Graph of High income energy usage\n",
    "# Line plot of energy usage in high income countries\n",
    "plt.plot(South_Africa_coal['Year'].values, South_Africa_coal['Value'].values, 'r-', label=\"Coal\")\n",
    "plt.plot(South_Africa_nuclear['Year'].values, South_Africa_nuclear['Value'].values, 'y-', label=\"Nuclear\") \n",
    "plt.plot(South_Africa_oil['Year'].values, South_Africa_oil['Value'].values, 'k-', label=\"Oil\")\n",
    "plt.plot(South_Africa_hydro['Year'].values, South_Africa_hydro['Value'].values, 'b-', label=\"Hydroelectric\")\n",
    "plt.plot(South_Africa_natural_gas['Year'].values, South_Africa_natural_gas['Value'].values, 'c-', label=\"Natural Gas\")\n",
    "plt.plot(South_Africa_renewable['Year'].values, South_Africa_renewable['Value'].values, 'g-', label=\"Renewable\")\n",
    "\n",
    "# Label the axes\n",
    "plt.xlabel('Year')\n",
    "plt.legend(loc=\"upper left\")\n",
    "\n",
    "#label the figure\n",
    "plt.title('Energy Usage in South Africa')\n",
    "\n",
    "# to make more honest, start they y axis at 0\n",
    "plt.axis([1990, 2012,0,100])\n",
    "\n",
    "plt.show()"
   ]
  },
  {
   "cell_type": "markdown",
   "metadata": {},
   "source": [
    "<h2><font color = \"blue\">South African GDP vs coal usage</font></h2>"
   ]
  },
  {
   "cell_type": "code",
   "execution_count": 121,
   "metadata": {
    "collapsed": true
   },
   "outputs": [],
   "source": [
    "south_africa_gdp_trunc = data_trunc_below_year(South_Africa_GDP, 2013)"
   ]
  },
  {
   "cell_type": "code",
   "execution_count": 122,
   "metadata": {
    "collapsed": true
   },
   "outputs": [],
   "source": [
    "south_africa_gdp_trunc = data_trunc_above_year(south_africa_gdp_trunc, 1970)"
   ]
  },
  {
   "cell_type": "code",
   "execution_count": 123,
   "metadata": {},
   "outputs": [
    {
     "data": {
      "image/png": "[encoded data removed]",
      "text/plain": [
       "<matplotlib.figure.Figure at 0x11926ffd0>"
      ]
     },
     "metadata": {},
     "output_type": "display_data"
    }
   ],
   "source": [
    "scatter(south_africa_coal_trunc, south_africa_gdp_trunc, \"South Africa GDP vs coal usage since 1970\", \"South_africa_coal_gdp.png\""
   ]
  },
  {
   "cell_type": "code",
   "execution_count": 124,
   "metadata": {},
   "outputs": [
    {
     "data": {
      "text/plain": [
       "array([[ 1.       ,  0.2277778],\n",
       "       [ 0.2277778,  1.       ]])"
      ]
     },
     "execution_count": 124,
     "metadata": {},
     "output_type": "execute_result"
    }
   ],
   "source": [
    "correlation(south_africa_gdp_trunc, South_Africa_coal)"
   ]
  },
  {
   "cell_type": "markdown",
   "metadata": {},
   "source": [
    "<p>South Africa does not have a strong relationship between coal and GDP. However, there are some interesting findings in this data. Poland produces no nuclear power. South Africa produces no oil, natural gas, renewable, or hydroelectric power. This indicates the availability of substitutes is a major factor in coal usage. </p>"
   ]
  },
  {
   "cell_type": "markdown",
   "metadata": {},
   "source": [
    "<h2><font color = \"red\">Comparing Russia and the United States</font></h2>"
   ]
  },
  {
   "cell_type": "markdown",
   "metadata": {},
   "source": [
    "<p>Based on the Poland - South Africa comparison, I decided to compare two nations with abundant natural resources - Russia and the United States. As with Poland and Russia, the two nations are in different economic groups. Russia is upper-middle income and the United States is high income. Given each nations abundant natural resources, we should be able to isolate income as a variable more so than before. However, we should note the two nations have very different political and economical structures, which will likely contribute to differences</p>"
   ]
  },
  {
   "cell_type": "markdown",
   "metadata": {},
   "source": [
    "<h3> USA</h3>"
   ]
  },
  {
   "cell_type": "code",
   "execution_count": 125,
   "metadata": {
    "collapsed": true
   },
   "outputs": [],
   "source": [
    "USA_GDP = create_mask(GDP_call, \"USA\")\n",
    "USA_coal = create_mask(coal_call, \"USA\")\n",
    "USA_oil = create_mask(oil_call, \"USA\")\n",
    "USA_hydro = create_mask(hydro_call, \"USA\")\n",
    "USA_nuclear = create_mask(nuclear_call, \"USA\")\n",
    "USA_natural_gas = create_mask(natural_gas_call, \"USA\")\n",
    "USA_renewable = create_mask(renewable_call, \"USA\")\n",
    "USA_consumption = create_mask(consumption_call, \"USA\")\n",
    "USA_CO2_emissions = create_mask(emissions_call, \"USA\")\n",
    "USA_articles = create_mask(science_call, \"USA\")"
   ]
  },
  {
   "cell_type": "markdown",
   "metadata": {},
   "source": [
    "<h3>Russia</h3>"
   ]
  },
  {
   "cell_type": "code",
   "execution_count": 126,
   "metadata": {
    "collapsed": true
   },
   "outputs": [],
   "source": [
    "Russia_GDP = create_mask(GDP_call, \"RUS\")\n",
    "Russia_coal = create_mask(coal_call, \"RUS\")\n",
    "Russia_oil = create_mask(oil_call, \"RUS\")\n",
    "Russia_hydro = create_mask(hydro_call, \"RUS\")\n",
    "Russia_nuclear = create_mask(nuclear_call, \"RUS\")\n",
    "Russia_natural_gas = create_mask(natural_gas_call, \"RUS\")\n",
    "Russia_renewable = create_mask(renewable_call, \"RUS\")\n",
    "Russia_consumption = create_mask(consumption_call, \"RUS\")\n",
    "Russia_CO2_emissions = create_mask(emissions_call, \"RUS\")\n",
    "Russia_articles = create_mask(science_call, \"RUS\")"
   ]
  },
  {
   "cell_type": "markdown",
   "metadata": {},
   "source": [
    "<h2><font color = \"blue\">USA energy usage</font></h2>"
   ]
  },
  {
   "cell_type": "code",
   "execution_count": 172,
   "metadata": {
    "collapsed": true
   },
   "outputs": [],
   "source": [
    "#Graph of High income energy usage\n",
    "# Line plot of energy usage in high income countries\n",
    "plt.plot(USA_coal['Year'].values, USA_coal['Value'].values, 'r-', label=\"Coal\")\n",
    "plt.plot(USA_nuclear['Year'].values, USA_nuclear['Value'].values, 'y-', label=\"Nuclear\") \n",
    "plt.plot(USA_oil['Year'].values, USA_oil['Value'].values, 'k-', label=\"Oil\")\n",
    "plt.plot(USA_hydro['Year'].values, USA_hydro['Value'].values, 'b-', label=\"Hydroelectric\")\n",
    "plt.plot(USA_natural_gas['Year'].values, USA_natural_gas['Value'].values, 'c-', label=\"Natural Gas\")\n",
    "plt.plot(USA_renewable['Year'].values, USA_renewable['Value'].values, 'g-', label=\"Renewable\")\n",
    "\n",
    "# Label the axes\n",
    "plt.xlabel('Year')\n",
    "plt.ylabel('Market share by energy source')\n",
    "plt.legend(loc=\"upper left\")\n",
    "\n",
    "#label the figure\n",
    "plt.title('Energy Usage in USA')\n",
    "\n",
    "# to make more honest, start they y axis at 0\n",
    "plt.axis([1960, 2012,0,100])\n",
    "#plt.show()\n",
    "plt.savefig(\"Energy_usage_USA.png\")"
   ]
  },
  {
   "cell_type": "markdown",
   "metadata": {},
   "source": [
    "<h2><font color = \"blue\">USA natural gas vs coal usage</font></h2>\n"
   ]
  },
  {
   "cell_type": "code",
   "execution_count": 168,
   "metadata": {
    "collapsed": true
   },
   "outputs": [],
   "source": [
    "scatter(USA_coal, USA_natural_gas, \"USA natural gas vs coal usage since 1960\", \"USA_coal_natural_gas.png\""
   ]
  },
  {
   "cell_type": "code",
   "execution_count": 130,
   "metadata": {},
   "outputs": [
    {
     "data": {
      "text/plain": [
       "array([[ 1.        , -0.22312771],\n",
       "       [-0.22312771,  1.        ]])"
      ]
     },
     "execution_count": 130,
     "metadata": {},
     "output_type": "execute_result"
    }
   ],
   "source": [
    "correlation(USA_GDP_trunc, USA_coal)"
   ]
  },
  {
   "cell_type": "code",
   "execution_count": 131,
   "metadata": {},
   "outputs": [
    {
     "data": {
      "text/plain": [
       "array([[ 1.        , -0.57549214],\n",
       "       [-0.57549214,  1.        ]])"
      ]
     },
     "execution_count": 131,
     "metadata": {},
     "output_type": "execute_result"
    }
   ],
   "source": [
    "correlation(USA_coal, USA_natural_gas)"
   ]
  },
  {
   "cell_type": "code",
   "execution_count": 132,
   "metadata": {},
   "outputs": [
    {
     "data": {
      "text/plain": [
       "array([[ 1.        , -0.41041573],\n",
       "       [-0.41041573,  1.        ]])"
      ]
     },
     "execution_count": 132,
     "metadata": {},
     "output_type": "execute_result"
    }
   ],
   "source": [
    "correlation(USA_coal, USA_renewable)"
   ]
  },
  {
   "cell_type": "markdown",
   "metadata": {},
   "source": [
    "<p>The United States energy usage is more diversified than previous nations. Nevertheless, natural gas is the fastest growing energy source. It recently passed coal as the top energy source in the United States. This is on par with what we saw in high income nations generally earlier. Natural gas is quickly passing coal as the top energy source in high income countries </p>"
   ]
  },
  {
   "cell_type": "markdown",
   "metadata": {},
   "source": [
    "<h2><font color = \"blue\">Russian energy usage</font></h2>\n"
   ]
  },
  {
   "cell_type": "code",
   "execution_count": 181,
   "metadata": {
    "collapsed": true
   },
   "outputs": [],
   "source": [
    "#Graph of High income energy usage\n",
    "# Line plot of energy usage in high income countries\n",
    "plt.plot(Russia_coal['Year'].values, Russia_coal['Value'].values, 'r-', label=\"Coal\")\n",
    "plt.plot(Russia_nuclear['Year'].values, Russia_nuclear['Value'].values, 'y-', label=\"Nuclear\") \n",
    "plt.plot(Russia_oil['Year'].values, Russia_oil['Value'].values, 'k-', label=\"Oil\")\n",
    "plt.plot(Russia_hydro['Year'].values, Russia_hydro['Value'].values, 'b-', label=\"Hydroelectric\")\n",
    "plt.plot(Russia_natural_gas['Year'].values, Russia_natural_gas['Value'].values, 'c-', label=\"Natural Gas\")\n",
    "plt.plot(Russia_renewable['Year'].values, Russia_renewable['Value'].values, 'g-', label=\"Renewable\")\n",
    "\n",
    "# Label the axes\n",
    "plt.xlabel('Year')\n",
    "plt.legend(loc=\"upper left\")\n",
    "\n",
    "#label the figure\n",
    "plt.title('Energy Usage in Russia')\n",
    "\n",
    "# to make more honest, start they y axis at 0\n",
    "plt.axis([1990, 2012,0,100])\n",
    "#plt.show()\n",
    "plt.savefig(\"Russia_marketshare.png\")"
   ]
  },
  {
   "cell_type": "markdown",
   "metadata": {},
   "source": [
    "<h2><font color = \"blue\">Russian natural gas vs coal usage</font></h2>"
   ]
  },
  {
   "cell_type": "code",
   "execution_count": 134,
   "metadata": {
    "collapsed": true
   },
   "outputs": [],
   "source": [
    "Russia_GDP_trunc = data_trunc_above_year(Russia_GDP, 1989)"
   ]
  },
  {
   "cell_type": "code",
   "execution_count": 135,
   "metadata": {
    "collapsed": true
   },
   "outputs": [],
   "source": [
    "Russia_GDP_trunc = data_trunc_below_year(Russia_GDP_trunc, 2013)"
   ]
  },
  {
   "cell_type": "code",
   "execution_count": 175,
   "metadata": {
    "collapsed": true
   },
   "outputs": [],
   "source": [
    "scatter(Russia_coal, Russia_natural_gas, \"Russian naturalgas vs coal usage since 1990\", \"Russia_coal_natural_gas.png\""
   ]
  },
  {
   "cell_type": "code",
   "execution_count": 137,
   "metadata": {},
   "outputs": [
    {
     "data": {
      "text/plain": [
       "array([[ 1.       , -0.5824408],\n",
       "       [-0.5824408,  1.       ]])"
      ]
     },
     "execution_count": 137,
     "metadata": {},
     "output_type": "execute_result"
    }
   ],
   "source": [
    "correlation(Russia_GDP_trunc, Russia_coal)"
   ]
  },
  {
   "cell_type": "markdown",
   "metadata": {},
   "source": [
    "<p> These two nations are unique in that they are in the top 10 in the world in both coal and natural gas (Canada is too). Interestingly, each nation now uses more natural gas than coal.</p>"
   ]
  },
  {
   "cell_type": "markdown",
   "metadata": {},
   "source": [
    "<h3>Nigeria</h3>"
   ]
  },
  {
   "cell_type": "code",
   "execution_count": 138,
   "metadata": {
    "collapsed": true
   },
   "outputs": [],
   "source": [
    "Nigeria_GDP = create_mask(GDP_call, \"NGA\")\n",
    "Nigeria_coal = create_mask(coal_call, \"NGA\")\n",
    "Nigeria_oil = create_mask(oil_call, \"NGA\")\n",
    "Nigeria_hydro = create_mask(hydro_call, \"NGA\")\n",
    "Nigeria_natural_gas = create_mask(natural_gas_call, \"NGA\")\n",
    "Nigeria_nuclear = create_mask(nuclear_call, \"NGA\")\n",
    "Nigeria_renewable = create_mask(renewable_call, \"NGA\")\n",
    "Nigeria_consumption = create_mask(consumption_call, \"NGA\")\n",
    "Nigeria_CO2_emissions = create_mask(emissions_call, \"NGA\")\n",
    "Nigeria_articles = create_mask(science_call, \"NGA\")"
   ]
  },
  {
   "cell_type": "code",
   "execution_count": 139,
   "metadata": {},
   "outputs": [
    {
     "data": {
      "image/png": "[encoded data removed]",
      "text/plain": [
       "<matplotlib.figure.Figure at 0x116e07550>"
      ]
     },
     "metadata": {},
     "output_type": "display_data"
    }
   ],
   "source": [
    "# Line plot of energy usage in high income countries\n",
    "plt.plot(Nigeria_coal['Year'].values, Nigeria_coal['Value'].values, 'r-', label=\"Coal\")\n",
    "plt.plot(Nigeria_nuclear['Year'].values, Nigeria_nuclear['Value'].values, 'y-', label=\"Nuclear\") \n",
    "plt.plot(Nigeria_oil['Year'].values, Nigeria_oil['Value'].values, 'k-', label=\"Oil\")\n",
    "plt.plot(Nigeria_hydro['Year'].values, Nigeria_hydro['Value'].values, 'b-', label=\"Hydroelectric\")\n",
    "plt.plot(Nigeria_natural_gas['Year'].values, Nigeria_natural_gas['Value'].values, 'c-', label=\"Natural Gas\")\n",
    "plt.plot(Nigeria_renewable['Year'].values, Nigeria_renewable['Value'].values, 'g-', label=\"Renewable\")\n",
    "\n",
    "# Label the axes\n",
    "plt.xlabel('Year')\n",
    "plt.legend(loc=\"upper left\")\n",
    "\n",
    "#label the figure\n",
    "plt.title('Energy Usage in Nigeria')\n",
    "\n",
    "# to make more honest, start they y axis at 0\n",
    "plt.axis([1989, 2012,0,100])\n",
    "\n",
    "plt.show()"
   ]
  },
  {
   "cell_type": "markdown",
   "metadata": {},
   "source": [
    "<p> Nigeria is another country rich in natural gas. It does not use any coal </p>"
   ]
  },
  {
   "cell_type": "code",
   "execution_count": 140,
   "metadata": {
    "collapsed": true
   },
   "outputs": [],
   "source": [
    "India_GDP = create_mask(GDP_call, \"IND\")\n",
    "India_coal = create_mask(coal_call, \"IND\")\n",
    "India_oil = create_mask(oil_call, \"IND\")\n",
    "India_hydro = create_mask(hydro_call, \"IND\")\n",
    "India_natural_gas = create_mask(natural_gas_call, \"IND\")\n",
    "India_nuclear = create_mask(nuclear_call, \"IND\")\n",
    "India_renewable = create_mask(renewable_call, \"IND\")\n",
    "India_consumption = create_mask(consumption_call, \"IND\")\n",
    "India_CO2_emissions = create_mask(emissions_call, \"IND\")\n",
    "India_articles = create_mask(science_call, \"IND\")"
   ]
  },
  {
   "cell_type": "code",
   "execution_count": 141,
   "metadata": {},
   "outputs": [
    {
     "data": {
      "image/png": "[encoded data removed]",
      "text/plain": [
       "<matplotlib.figure.Figure at 0x1167c1d30>"
      ]
     },
     "metadata": {},
     "output_type": "display_data"
    }
   ],
   "source": [
    "# Line plot of energy usage in high income countries\n",
    "plt.plot(India_coal['Year'].values, India_coal['Value'].values, 'r-', label=\"Coal\")\n",
    "plt.plot(India_nuclear['Year'].values, India_nuclear['Value'].values, 'y-', label=\"Nuclear\") \n",
    "plt.plot(India_oil['Year'].values, India_oil['Value'].values, 'k-', label=\"Oil\")\n",
    "plt.plot(India_hydro['Year'].values, India_hydro['Value'].values, 'b-', label=\"Hydroelectric\")\n",
    "plt.plot(India_natural_gas['Year'].values, India_natural_gas['Value'].values, 'c-', label=\"Natural Gas\")\n",
    "plt.plot(India_renewable['Year'].values, India_renewable['Value'].values, 'g-', label=\"Renewable\")\n",
    "\n",
    "# Label the axes\n",
    "plt.xlabel('Year')\n",
    "plt.legend(loc=\"upper left\")\n",
    "\n",
    "#label the figure\n",
    "plt.title('Energy Usage in India')\n",
    "\n",
    "# to make more honest, start they y axis at 0\n",
    "plt.axis([1989, 2012,0,100])\n",
    "\n",
    "plt.show()"
   ]
  },
  {
   "cell_type": "markdown",
   "metadata": {},
   "source": [
    "<p> India is rich in coal, but has little natural gas. It uses mostly coal. </p>"
   ]
  }
 ],
 "metadata": {
  "kernelspec": {
   "display_name": "Python 3",
   "language": "python",
   "name": "python3"
  },
  "language_info": {
   "codemirror_mode": {
    "name": "ipython",
    "version": 3
   },
   "file_extension": ".py",
   "mimetype": "text/x-python",
   "name": "python",
   "nbconvert_exporter": "python",
   "pygments_lexer": "ipython3",
   "version": "3.6.0"
  }
 },
 "nbformat": 4,
 "nbformat_minor": 2
}
